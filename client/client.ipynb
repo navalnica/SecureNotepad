{
 "cells": [
  {
   "cell_type": "code",
   "execution_count": 1,
   "metadata": {},
   "outputs": [],
   "source": [
    "%load_ext autoreload\n",
    "%autoreload 2"
   ]
  },
  {
   "cell_type": "code",
   "execution_count": 2,
   "metadata": {},
   "outputs": [],
   "source": [
    "import client\n",
    "from IPython.display import display\n",
    "from ipywidgets import widgets"
   ]
  },
  {
   "cell_type": "code",
   "execution_count": 3,
   "metadata": {},
   "outputs": [],
   "source": [
    "class Handler:\n",
    "    def __init__(self):\n",
    "        self.user_input = widgets.Text('admin', description='User')\n",
    "        self.password_input = widgets.Password('password', description='Password')\n",
    "        self.login_button = widgets.Button(description='Sign in')\n",
    "        self.login_controls = ['user_input', 'password_input', 'login_button']\n",
    "        \n",
    "        self.tfa_input = widgets.Text(description='2fa code')\n",
    "        self.tfa_confirm_button = widgets.Button(description='Confirm')\n",
    "        self.tfa_controls = ['tfa_input', 'tfa_confirm_button']\n",
    "\n",
    "        self.filename_input = widgets.Text('1.txt', description='File name')\n",
    "        self.file_content_ta = widgets.Textarea(description='File')\n",
    "        self.send_button = widgets.Button(description=\"Send file\")\n",
    "        self.get_button = widgets.Button(description=\"Get file\")\n",
    "        self.notepad_controls = ['filename_input', 'file_content_ta', 'send_button', 'get_button']\n",
    "\n",
    "        for c in self.login_controls: \n",
    "            el = getattr(self, str(c))\n",
    "            display(el)\n",
    "            el.disabled = False\n",
    "        for x in [self.tfa_controls, self.notepad_controls]:\n",
    "            for c in x: \n",
    "                el = getattr(self, str(c))\n",
    "                display(el)\n",
    "                el.disabled = True\n",
    "            \n",
    "        self.login_button.on_click(self.login)\n",
    "        self.tfa_confirm_button.on_click(self.tfa_confirm)\n",
    "        self.get_button.on_click(self.get_file)\n",
    "        self.send_button.on_click(self.send_file)\n",
    "        \n",
    "        self.init_session()\n",
    "        \n",
    "        \n",
    "    def init_session(self):\n",
    "        self.session = client.Session('http://localhost:5000', debug=True)\n",
    "\n",
    "        \n",
    "    def login(self, sender):\n",
    "        user, password = self.user_input.value, self.password_input.value\n",
    "        try:\n",
    "            self.session.login(user, password)\n",
    "            print('login succeded')\n",
    "            for c in self.login_controls: \n",
    "                el = getattr(self, str(c))\n",
    "                el.disabled = True\n",
    "            for c in self.tfa_controls: \n",
    "                el = getattr(self, str(c))\n",
    "                el.disabled = False\n",
    "        except Exception as e:\n",
    "            print(f'login failed. message: {e}')\n",
    "            \n",
    "    def tfa_confirm(self, sender):\n",
    "        tfa_code = self.tfa_input.value\n",
    "        try:\n",
    "            self.session.tfa_confirm(tfa_code)\n",
    "            print('2fa succeded')\n",
    "            for c in self.tfa_controls: \n",
    "                el = getattr(self, str(c))\n",
    "                el.disabled = True\n",
    "            for c in self.notepad_controls: \n",
    "                el = getattr(self, str(c))\n",
    "                el.disabled = False\n",
    "        except Exception as e:\n",
    "            print(f'2fa failed. message: {e}')\n",
    "\n",
    "\n",
    "    def send_file(self, sender):\n",
    "        self.session.send_text(self.filename_input.value, self.file_content_ta.value)\n",
    "\n",
    "    def get_file(self, sender):\n",
    "        self.file_content_ta.value = self.session.get_text(self.filename_input.value)"
   ]
  },
  {
   "cell_type": "code",
   "execution_count": 9,
   "metadata": {},
   "outputs": [
    {
     "data": {
      "application/vnd.jupyter.widget-view+json": {
       "model_id": "e74451f7e043428c92ace8dfa3a0d786",
       "version_major": 2,
       "version_minor": 0
      },
      "text/plain": [
       "Text(value='admin', description='User')"
      ]
     },
     "metadata": {},
     "output_type": "display_data"
    },
    {
     "data": {
      "application/vnd.jupyter.widget-view+json": {
       "model_id": "a2c195832dc74430870cf62efe0d2dcc",
       "version_major": 2,
       "version_minor": 0
      },
      "text/plain": [
       "Password(description='Password')"
      ]
     },
     "metadata": {},
     "output_type": "display_data"
    },
    {
     "data": {
      "application/vnd.jupyter.widget-view+json": {
       "model_id": "61ef2a47051c425897f5dd899bf1d899",
       "version_major": 2,
       "version_minor": 0
      },
      "text/plain": [
       "Button(description='Sign in', style=ButtonStyle())"
      ]
     },
     "metadata": {},
     "output_type": "display_data"
    },
    {
     "data": {
      "application/vnd.jupyter.widget-view+json": {
       "model_id": "20430ff661d241e2b6a566f6a96dbee3",
       "version_major": 2,
       "version_minor": 0
      },
      "text/plain": [
       "Text(value='', description='2fa code')"
      ]
     },
     "metadata": {},
     "output_type": "display_data"
    },
    {
     "data": {
      "application/vnd.jupyter.widget-view+json": {
       "model_id": "426fa6e78ec540109296f20fc339e5a9",
       "version_major": 2,
       "version_minor": 0
      },
      "text/plain": [
       "Button(description='Confirm', style=ButtonStyle())"
      ]
     },
     "metadata": {},
     "output_type": "display_data"
    },
    {
     "data": {
      "application/vnd.jupyter.widget-view+json": {
       "model_id": "93d4da2e3c2e495896e7b6c49a83aaab",
       "version_major": 2,
       "version_minor": 0
      },
      "text/plain": [
       "Text(value='1.txt', description='File name')"
      ]
     },
     "metadata": {},
     "output_type": "display_data"
    },
    {
     "data": {
      "application/vnd.jupyter.widget-view+json": {
       "model_id": "4bd3ec82c660452f8f4370caa34f0f07",
       "version_major": 2,
       "version_minor": 0
      },
      "text/plain": [
       "Textarea(value='', description='File')"
      ]
     },
     "metadata": {},
     "output_type": "display_data"
    },
    {
     "data": {
      "application/vnd.jupyter.widget-view+json": {
       "model_id": "0de029e8294c4776a7a45102e3fd92ba",
       "version_major": 2,
       "version_minor": 0
      },
      "text/plain": [
       "Button(description='Send file', style=ButtonStyle())"
      ]
     },
     "metadata": {},
     "output_type": "display_data"
    },
    {
     "data": {
      "application/vnd.jupyter.widget-view+json": {
       "model_id": "5b0b4970f76b4191abc06462e031b227",
       "version_major": 2,
       "version_minor": 0
      },
      "text/plain": [
       "Button(description='Get file', style=ButtonStyle())"
      ]
     },
     "metadata": {},
     "output_type": "display_data"
    },
    {
     "name": "stdout",
     "output_type": "stream",
     "text": [
      "url: \"http://localhost:5000\"\n",
      "\n",
      "----------\n",
      "\n",
      "received Serpent key:\n",
      "b'A00065EC49D61249'\n"
     ]
    }
   ],
   "source": [
    "handler = Handler()"
   ]
  },
  {
   "cell_type": "code",
   "execution_count": null,
   "metadata": {},
   "outputs": [],
   "source": []
  },
  {
   "cell_type": "code",
   "execution_count": null,
   "metadata": {},
   "outputs": [],
   "source": []
  },
  {
   "cell_type": "code",
   "execution_count": null,
   "metadata": {},
   "outputs": [],
   "source": []
  },
  {
   "cell_type": "code",
   "execution_count": null,
   "metadata": {},
   "outputs": [],
   "source": []
  },
  {
   "cell_type": "code",
   "execution_count": null,
   "metadata": {},
   "outputs": [],
   "source": []
  },
  {
   "cell_type": "code",
   "execution_count": null,
   "metadata": {},
   "outputs": [],
   "source": []
  },
  {
   "cell_type": "code",
   "execution_count": null,
   "metadata": {},
   "outputs": [],
   "source": []
  },
  {
   "cell_type": "code",
   "execution_count": null,
   "metadata": {},
   "outputs": [],
   "source": []
  },
  {
   "cell_type": "code",
   "execution_count": null,
   "metadata": {},
   "outputs": [],
   "source": []
  },
  {
   "cell_type": "code",
   "execution_count": null,
   "metadata": {},
   "outputs": [],
   "source": []
  },
  {
   "cell_type": "code",
   "execution_count": null,
   "metadata": {},
   "outputs": [],
   "source": []
  },
  {
   "cell_type": "code",
   "execution_count": null,
   "metadata": {},
   "outputs": [],
   "source": []
  }
 ],
 "metadata": {
  "kernelspec": {
   "display_name": "Python 3",
   "language": "python",
   "name": "python3"
  },
  "language_info": {
   "codemirror_mode": {
    "name": "ipython",
    "version": 3
   },
   "file_extension": ".py",
   "mimetype": "text/x-python",
   "name": "python",
   "nbconvert_exporter": "python",
   "pygments_lexer": "ipython3",
   "version": "3.7.3"
  }
 },
 "nbformat": 4,
 "nbformat_minor": 2
}
