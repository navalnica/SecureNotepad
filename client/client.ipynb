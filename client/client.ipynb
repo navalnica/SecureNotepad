{
 "cells": [
  {
   "cell_type": "code",
   "execution_count": 1,
   "metadata": {},
   "outputs": [],
   "source": [
    "%load_ext autoreload\n",
    "%autoreload 2"
   ]
  },
  {
   "cell_type": "code",
   "execution_count": 2,
   "metadata": {},
   "outputs": [],
   "source": [
    "import client\n",
    "from IPython.display import display\n",
    "from ipywidgets import widgets"
   ]
  },
  {
   "cell_type": "code",
   "execution_count": 3,
   "metadata": {},
   "outputs": [],
   "source": [
    "class Handler:\n",
    "    def __init__(self):\n",
    "        self.user_input = widgets.Text('admin', description='User')\n",
    "        self.password_input = widgets.Password('password', description='Password')\n",
    "        self.login_button = widgets.Button(description='Sign in')\n",
    "        self.login_controls = ['user_input', 'password_input', 'login_button']\n",
    "        \n",
    "        self.tfa_input = widgets.Text(description='2fa code')\n",
    "        self.tfa_confirm_button = widgets.Button(description='Confirm')\n",
    "        self.tfa_controls = ['tfa_input', 'tfa_confirm_button']\n",
    "\n",
    "        self.filename_input = widgets.Text('1.txt', description='File name')\n",
    "        self.file_content_ta = widgets.Textarea(description='File')\n",
    "        self.send_button = widgets.Button(description=\"Send file\")\n",
    "        self.get_button = widgets.Button(description=\"Get file\")\n",
    "        self.notepad_controls = ['filename_input', 'file_content_ta', 'send_button', 'get_button']\n",
    "\n",
    "        for c in self.login_controls: \n",
    "            el = getattr(self, str(c))\n",
    "            display(el)\n",
    "            el.disabled = False\n",
    "        for x in [self.tfa_controls, self.notepad_controls]:\n",
    "            for c in x: \n",
    "                el = getattr(self, str(c))\n",
    "                display(el)\n",
    "                el.disabled = True\n",
    "            \n",
    "        self.login_button.on_click(self.login)\n",
    "        self.tfa_confirm_button.on_click(self.tfa_confirm)\n",
    "        self.get_button.on_click(self.get_file)\n",
    "        self.send_button.on_click(self.send_file)\n",
    "        \n",
    "        self.init_session()\n",
    "        \n",
    "        \n",
    "    def init_session(self):\n",
    "        self.session = client.Session('http://localhost:5000', debug=True)\n",
    "\n",
    "        \n",
    "    def login(self, sender):\n",
    "        user, password = self.user_input.value, self.password_input.value\n",
    "        try:\n",
    "            self.session.login(user, password)\n",
    "            print('login succeded')\n",
    "            for c in self.login_controls: \n",
    "                el = getattr(self, str(c))\n",
    "                el.disabled = True\n",
    "            for c in self.tfa_controls: \n",
    "                el = getattr(self, str(c))\n",
    "                el.disabled = False\n",
    "        except Exception as e:\n",
    "            print(f'login failed. message: {e}')\n",
    "            \n",
    "    def tfa_confirm(self, sender):\n",
    "        tfa_code = self.tfa_input.value\n",
    "        try:\n",
    "            self.session.tfa_confirm(tfa_code)\n",
    "            print('2fa succeded')\n",
    "            for c in self.tfa_controls: \n",
    "                el = getattr(self, str(c))\n",
    "                el.disabled = True\n",
    "            for c in self.notepad_controls: \n",
    "                el = getattr(self, str(c))\n",
    "                el.disabled = False\n",
    "        except Exception as e:\n",
    "            print(f'2fa failed. message: {e}')\n",
    "\n",
    "\n",
    "    def send_file(self, sender):\n",
    "        self.session.send_text(self.filename_input.value, self.file_content_ta.value)\n",
    "\n",
    "    def get_file(self, sender):\n",
    "        self.file_content_ta.value = self.session.get_text(self.filename_input.value)"
   ]
  },
  {
   "cell_type": "code",
   "execution_count": 18,
   "metadata": {},
   "outputs": [
    {
     "data": {
      "application/vnd.jupyter.widget-view+json": {
       "model_id": "f3b42ce646b94ce4b1dce71b248c26a8",
       "version_major": 2,
       "version_minor": 0
      },
      "text/plain": [
       "Text(value='admin', description='User')"
      ]
     },
     "metadata": {},
     "output_type": "display_data"
    },
    {
     "data": {
      "application/vnd.jupyter.widget-view+json": {
       "model_id": "712609c21d184673a2b3291fe3ee6b3c",
       "version_major": 2,
       "version_minor": 0
      },
      "text/plain": [
       "Password(description='Password')"
      ]
     },
     "metadata": {},
     "output_type": "display_data"
    },
    {
     "data": {
      "application/vnd.jupyter.widget-view+json": {
       "model_id": "33c01631ddd84d0e84553c7ae7344aab",
       "version_major": 2,
       "version_minor": 0
      },
      "text/plain": [
       "Button(description='Sign in', style=ButtonStyle())"
      ]
     },
     "metadata": {},
     "output_type": "display_data"
    },
    {
     "data": {
      "application/vnd.jupyter.widget-view+json": {
       "model_id": "6fe0c25f099f4b8db6303cb9639b3622",
       "version_major": 2,
       "version_minor": 0
      },
      "text/plain": [
       "Text(value='', description='2fa code')"
      ]
     },
     "metadata": {},
     "output_type": "display_data"
    },
    {
     "data": {
      "application/vnd.jupyter.widget-view+json": {
       "model_id": "1940522815eb4039a6c9d6704a37a692",
       "version_major": 2,
       "version_minor": 0
      },
      "text/plain": [
       "Button(description='Confirm', style=ButtonStyle())"
      ]
     },
     "metadata": {},
     "output_type": "display_data"
    },
    {
     "data": {
      "application/vnd.jupyter.widget-view+json": {
       "model_id": "0437008a16d2403db68b56c2b1d4a411",
       "version_major": 2,
       "version_minor": 0
      },
      "text/plain": [
       "Text(value='1.txt', description='File name')"
      ]
     },
     "metadata": {},
     "output_type": "display_data"
    },
    {
     "data": {
      "application/vnd.jupyter.widget-view+json": {
       "model_id": "db0a8d6589364268b3fb87112cf6c829",
       "version_major": 2,
       "version_minor": 0
      },
      "text/plain": [
       "Textarea(value='', description='File')"
      ]
     },
     "metadata": {},
     "output_type": "display_data"
    },
    {
     "data": {
      "application/vnd.jupyter.widget-view+json": {
       "model_id": "1eb4ddf16260475c99097d92362c696c",
       "version_major": 2,
       "version_minor": 0
      },
      "text/plain": [
       "Button(description='Send file', style=ButtonStyle())"
      ]
     },
     "metadata": {},
     "output_type": "display_data"
    },
    {
     "data": {
      "application/vnd.jupyter.widget-view+json": {
       "model_id": "b5a237852b8744aeac9534aa93376ac3",
       "version_major": 2,
       "version_minor": 0
      },
      "text/plain": [
       "Button(description='Get file', style=ButtonStyle())"
      ]
     },
     "metadata": {},
     "output_type": "display_data"
    },
    {
     "name": "stdout",
     "output_type": "stream",
     "text": [
      "url: \"http://localhost:5000\"\n",
      "\n",
      "----------\n",
      "\n",
      "received Serpent key:\n",
      "b'35420D150B002ABC'\n",
      "\n",
      "----------\n",
      "\n",
      "trying to log in to the server.\n",
      "user: \"admin\", password: \"password\"\n",
      "encrypted password: Dih0zAlB7ak=\n",
      "login succeded\n",
      "\n",
      "----------\n",
      "\n",
      "2fa code: 794339\n",
      "sending 2fa code to the server\n",
      "2fa succeded\n",
      "\n",
      "----------\n",
      "\n",
      "received text from server\n",
      "encrypted data: b'\\n!x\\x91L?\\xff\\xa5\\x8e\\x85\\xc6\\x8a\\x12aon\\xf8\\xa23[\\x1c\\xf1z\\xd3\\xc1\\xdeF\\xa5T'\n",
      "decrypted data: b'this is the first file. added'\n"
     ]
    }
   ],
   "source": [
    "handler = Handler()"
   ]
  },
  {
   "cell_type": "code",
   "execution_count": null,
   "metadata": {},
   "outputs": [],
   "source": []
  },
  {
   "cell_type": "code",
   "execution_count": null,
   "metadata": {},
   "outputs": [],
   "source": []
  },
  {
   "cell_type": "code",
   "execution_count": null,
   "metadata": {},
   "outputs": [],
   "source": []
  },
  {
   "cell_type": "code",
   "execution_count": null,
   "metadata": {},
   "outputs": [],
   "source": []
  },
  {
   "cell_type": "code",
   "execution_count": null,
   "metadata": {},
   "outputs": [],
   "source": []
  },
  {
   "cell_type": "code",
   "execution_count": null,
   "metadata": {},
   "outputs": [],
   "source": []
  },
  {
   "cell_type": "code",
   "execution_count": null,
   "metadata": {},
   "outputs": [],
   "source": []
  },
  {
   "cell_type": "code",
   "execution_count": null,
   "metadata": {},
   "outputs": [],
   "source": []
  },
  {
   "cell_type": "code",
   "execution_count": null,
   "metadata": {},
   "outputs": [],
   "source": []
  },
  {
   "cell_type": "code",
   "execution_count": null,
   "metadata": {},
   "outputs": [],
   "source": []
  },
  {
   "cell_type": "code",
   "execution_count": null,
   "metadata": {},
   "outputs": [],
   "source": []
  },
  {
   "cell_type": "code",
   "execution_count": null,
   "metadata": {},
   "outputs": [],
   "source": []
  }
 ],
 "metadata": {
  "kernelspec": {
   "display_name": "Python 3",
   "language": "python",
   "name": "python3"
  },
  "language_info": {
   "codemirror_mode": {
    "name": "ipython",
    "version": 3
   },
   "file_extension": ".py",
   "mimetype": "text/x-python",
   "name": "python",
   "nbconvert_exporter": "python",
   "pygments_lexer": "ipython3",
   "version": "3.7.3"
  }
 },
 "nbformat": 4,
 "nbformat_minor": 2
}
