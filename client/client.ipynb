{
 "cells": [
  {
   "cell_type": "code",
   "execution_count": null,
   "metadata": {},
   "outputs": [],
   "source": [
    "%load_ext autoreload\n",
    "%autoreload 2"
   ]
  },
  {
   "cell_type": "code",
   "execution_count": null,
   "metadata": {},
   "outputs": [],
   "source": [
    "import client\n",
    "from IPython.display import display\n",
    "from ipywidgets import widgets"
   ]
  },
  {
   "cell_type": "code",
   "execution_count": null,
   "metadata": {},
   "outputs": [],
   "source": [
    "class Handler:\n",
    "    def __init__(self):\n",
    "        self.user_input = widgets.Text('admin', description='User')\n",
    "        self.password_input = widgets.Password('password', description='Password')\n",
    "        self.login_button = widgets.Button(description='Sign in')\n",
    "        self.main_controls = ['user_input', 'password_input', 'login_button']\n",
    "\n",
    "        self.filename_input = widgets.Text('1.txt', description='File name')\n",
    "        self.file_content_ta = widgets.Textarea(description='File')\n",
    "        self.send_button = widgets.Button(description=\"Send file\")\n",
    "        self.get_button = widgets.Button(description=\"Get file\")\n",
    "        self.secondary_controls = ['filename_input', 'file_content_ta', 'send_button', 'get_button']\n",
    "\n",
    "        for c in self.main_controls: \n",
    "            el = getattr(self, str(c))\n",
    "            display(el)\n",
    "            el.disabled = False\n",
    "        for c in self.secondary_controls: \n",
    "            el = getattr(self, str(c))\n",
    "            display(el)\n",
    "            el.disabled = True\n",
    "            \n",
    "        self.login_button.on_click(self.login)\n",
    "        self.get_button.on_click(self.get_file)\n",
    "        self.send_button.on_click(self.send_file)\n",
    "        \n",
    "        self.init_session()\n",
    "        \n",
    "        \n",
    "    def init_session(self):\n",
    "        self.session = client.Session('http://localhost:5000', debug=True)\n",
    "\n",
    "        \n",
    "    def login(self, sender):\n",
    "        user, password = self.user_input.value, self.password_input.value\n",
    "        try:\n",
    "            self.session.login(user, password)\n",
    "            \n",
    "            print('login succeded')\n",
    "            for c in self.main_controls: \n",
    "                el = getattr(self, str(c))\n",
    "                el.disabled = True\n",
    "            for c in self.secondary_controls: \n",
    "                el = getattr(self, str(c))\n",
    "                el.disabled = False\n",
    "        except Exception as e:\n",
    "            print(f'login failed. message: {e}')\n",
    "\n",
    "\n",
    "    def send_file(self, sender):\n",
    "        self.session.send_text(self.filename_input.value, self.file_content_ta.value)\n",
    "\n",
    "    def get_file(self, sender):\n",
    "        self.file_content_ta.value = self.session.get_text(self.filename_input.value)"
   ]
  },
  {
   "cell_type": "code",
   "execution_count": null,
   "metadata": {},
   "outputs": [],
   "source": [
    "handler = Handler()"
   ]
  },
  {
   "cell_type": "code",
   "execution_count": null,
   "metadata": {},
   "outputs": [],
   "source": []
  },
  {
   "cell_type": "code",
   "execution_count": null,
   "metadata": {},
   "outputs": [],
   "source": []
  },
  {
   "cell_type": "code",
   "execution_count": null,
   "metadata": {},
   "outputs": [],
   "source": []
  },
  {
   "cell_type": "code",
   "execution_count": null,
   "metadata": {},
   "outputs": [],
   "source": []
  },
  {
   "cell_type": "code",
   "execution_count": null,
   "metadata": {},
   "outputs": [],
   "source": []
  },
  {
   "cell_type": "code",
   "execution_count": null,
   "metadata": {},
   "outputs": [],
   "source": []
  },
  {
   "cell_type": "code",
   "execution_count": null,
   "metadata": {},
   "outputs": [],
   "source": []
  },
  {
   "cell_type": "code",
   "execution_count": null,
   "metadata": {},
   "outputs": [],
   "source": []
  },
  {
   "cell_type": "code",
   "execution_count": null,
   "metadata": {},
   "outputs": [],
   "source": []
  },
  {
   "cell_type": "code",
   "execution_count": null,
   "metadata": {},
   "outputs": [],
   "source": []
  },
  {
   "cell_type": "code",
   "execution_count": null,
   "metadata": {},
   "outputs": [],
   "source": []
  },
  {
   "cell_type": "code",
   "execution_count": null,
   "metadata": {},
   "outputs": [],
   "source": []
  }
 ],
 "metadata": {
  "kernelspec": {
   "display_name": "Python 3",
   "language": "python",
   "name": "python3"
  },
  "language_info": {
   "codemirror_mode": {
    "name": "ipython",
    "version": 3
   },
   "file_extension": ".py",
   "mimetype": "text/x-python",
   "name": "python",
   "nbconvert_exporter": "python",
   "pygments_lexer": "ipython3",
   "version": "3.7.3"
  }
 },
 "nbformat": 4,
 "nbformat_minor": 2
}
