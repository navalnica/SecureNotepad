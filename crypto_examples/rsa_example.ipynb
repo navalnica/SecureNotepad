{
 "cells": [
  {
   "cell_type": "code",
   "execution_count": 1,
   "metadata": {},
   "outputs": [],
   "source": [
    "from cryptography.hazmat.backends import default_backend\n",
    "from cryptography.hazmat.primitives.asymmetric import rsa, padding\n",
    "from cryptography.hazmat.primitives import serialization, hashes\n",
    "from cryptography.exceptions import InvalidSignature"
   ]
  },
  {
   "cell_type": "code",
   "execution_count": 2,
   "metadata": {},
   "outputs": [],
   "source": [
    "def generate_private_key():\n",
    "    private_key = rsa.generate_private_key(\n",
    "        public_exponent=65537,\n",
    "        key_size=2048,\n",
    "        backend=default_backend()\n",
    "    )\n",
    "    return private_key\n",
    "\n",
    "\n",
    "def get_private_pem(private_key):\n",
    "    pem = private_key.private_bytes(\n",
    "        encoding=serialization.Encoding.PEM,\n",
    "        format=serialization.PrivateFormat.PKCS8,\n",
    "        encryption_algorithm=serialization.NoEncryption()\n",
    "    )\n",
    "    return pem\n",
    "\n",
    "\n",
    "def get_public_pem(public_key):\n",
    "    pem = public_key.public_bytes(\n",
    "        encoding=serialization.Encoding.PEM,\n",
    "        format=serialization.PublicFormat.SubjectPublicKeyInfo\n",
    "    )\n",
    "    return pem\n",
    "\n",
    "\n",
    "def get_message_signature(message, private_key):\n",
    "    signature = private_key.sign(\n",
    "        message,\n",
    "        padding.PSS(\n",
    "            mgf=padding.MGF1(hashes.SHA256()),\n",
    "            salt_length=padding.PSS.MAX_LENGTH\n",
    "        ),\n",
    "        hashes.SHA256()\n",
    "    )\n",
    "    return signature\n",
    "\n",
    "\n",
    "def is_valid_signature(signature, message, public_key):\n",
    "    try:\n",
    "        public_key.verify(\n",
    "            signature,\n",
    "            message,\n",
    "            padding.PSS(\n",
    "                mgf=padding.MGF1(hashes.SHA256()),\n",
    "                salt_length=padding.PSS.MAX_LENGTH\n",
    "            ),\n",
    "            hashes.SHA256()\n",
    "        )\n",
    "        return True\n",
    "    except InvalidSignature as e:\n",
    "        return False\n",
    "    \n",
    "    \n",
    "def cipher(message, public_key):\n",
    "    ciphertext = public_key.encrypt(\n",
    "        message,\n",
    "        padding.OAEP(\n",
    "            mgf=padding.MGF1(algorithm=hashes.SHA256()),\n",
    "            algorithm=hashes.SHA256(),\n",
    "            label=None\n",
    "        )\n",
    "    )\n",
    "    return ciphertext\n",
    "\n",
    "\n",
    "def decipher(ciphertext, private_key):\n",
    "    plaintext = private_key.decrypt(\n",
    "        ciphertext,\n",
    "        padding.OAEP(\n",
    "            mgf=padding.MGF1(algorithm=hashes.SHA256()),\n",
    "            algorithm=hashes.SHA256(),\n",
    "            label=None\n",
    "        )\n",
    "    )\n",
    "    return plaintext"
   ]
  },
  {
   "cell_type": "markdown",
   "metadata": {},
   "source": [
    "## create keypairs for the first and the second persons"
   ]
  },
  {
   "cell_type": "code",
   "execution_count": 3,
   "metadata": {},
   "outputs": [],
   "source": [
    "keys = [{} for x in range(2)]\n",
    "\n",
    "keys[0]['private'] = generate_private_key()\n",
    "keys[0]['public'] = keys[0]['private'].public_key()\n",
    "\n",
    "keys[1]['private'] = generate_private_key()\n",
    "keys[1]['public'] = keys[1]['private'].public_key()"
   ]
  },
  {
   "cell_type": "markdown",
   "metadata": {},
   "source": [
    "## sign the message as the first person"
   ]
  },
  {
   "cell_type": "code",
   "execution_count": 4,
   "metadata": {},
   "outputs": [
    {
     "name": "stdout",
     "output_type": "stream",
     "text": [
      "A message I want to sign.\n",
      "New line.\tTab\tTab\n"
     ]
    }
   ],
   "source": [
    "message = b\"A message I want to sign.\\nNew line.\\tTab\\tTab\"\n",
    "print(message.decode())"
   ]
  },
  {
   "cell_type": "code",
   "execution_count": 5,
   "metadata": {},
   "outputs": [
    {
     "data": {
      "text/plain": [
       "b'\\xd1;\\xf7\\xfb\\xfdf\\xd2\\r\\x96O\\x0f\\x00\\xc1\\x02\\xba\\xff\\xde\\xc3:\\xcc\\x04\\xfd\"\\xa4\\xd4\\xa7\\xbeP\\xc5\\xd1S\\xf0\\xd2\\xa0\\xd4\\xebn\\xba\\xa7\\xaf\\xa1\\\\\\x01\\x1d\\xdb\\x83\\xb5\\xf9.!\\xf0\"v\\xa77\\xd0\\t\\x198\\x04\\xfcPq%\\x05b\"Ur\\x0f\\xd3\\x8b9\\xd4\\x17\\xf2GI\\xfcM\\x1a\\xe3\\x19w\\xaeF\\xd1\\\\6:\\x02apQ\\xd5Q\\xef;\\xc8\\x1c\\x01,\\xa2\\x87\\x91h\\xa6\\x04\\xad9N\\x95\\x9d\\xc8\\x1a\\xc1Dv\\xf0\\n\\xc1\\xab\\x16M\\xf7\\xb0\\x0e\\t\\xe1\\xdd\"\\xe2\\x1e\\xbbYm\\xc3\\n\\x17&\\xbe\\xe6\\xec\\'\\xaem\\xf2\\xcb\\x9d\\xd7\\xfbR\\xa3h\\x7f^\\xb3R\\x10\\x18\\xc1\\r\\x13,\\xff4\\x80\\x95;3S\\xa9i\\xb2;\\x19\\x85SP\\x9d\\xfa\\xc67<\\x1c~\\xd1:W\\xb3\\x80\\x8e\\xb1D\\xfa\\x91\\x00\\xd6&\\xbb\\xe3X\\xb2\\\\[E\\xab\\x82\\xeb\\xa6\\xbb;\\xc7\\x80fIi\\xca\\xc1\\xf8\\x8d\\x05\\x8f\\xf0\\xeer\\x82\\x16\\x87C\\xc8\\xcd\\xa9\\xda\\xd0\\xc7\\x9dyt18\\x13\\xdav\\x90\\xe1vI\\xd4\\\\\\xf9\\xbc\\xc5\\xe0On'"
      ]
     },
     "execution_count": 5,
     "metadata": {},
     "output_type": "execute_result"
    }
   ],
   "source": [
    "signature = get_message_signature(message, keys[0]['private'])\n",
    "signature"
   ]
  },
  {
   "cell_type": "code",
   "execution_count": 6,
   "metadata": {},
   "outputs": [
    {
     "data": {
      "text/plain": [
       "True"
      ]
     },
     "execution_count": 6,
     "metadata": {},
     "output_type": "execute_result"
    }
   ],
   "source": [
    "is_valid_signature(signature, message, keys[0]['public'])"
   ]
  },
  {
   "cell_type": "code",
   "execution_count": 7,
   "metadata": {},
   "outputs": [
    {
     "data": {
      "text/plain": [
       "False"
      ]
     },
     "execution_count": 7,
     "metadata": {},
     "output_type": "execute_result"
    }
   ],
   "source": [
    "is_valid_signature(signature, message, keys[1]['public'])"
   ]
  },
  {
   "cell_type": "markdown",
   "metadata": {},
   "source": [
    "## encode message for the second person"
   ]
  },
  {
   "cell_type": "code",
   "execution_count": 8,
   "metadata": {},
   "outputs": [
    {
     "name": "stdout",
     "output_type": "stream",
     "text": [
      "Some valuable\t\tinformation\n",
      "to be transmitted!!\n",
      "\n",
      "End of the message\n"
     ]
    }
   ],
   "source": [
    "message = b\"Some valuable\\t\\tinformation\\nto be transmitted!!\\n\\nEnd of the message\"\n",
    "print(message.decode())"
   ]
  },
  {
   "cell_type": "code",
   "execution_count": 9,
   "metadata": {},
   "outputs": [
    {
     "data": {
      "text/plain": [
       "b'R\\x11\\x7fN\\xbb\\x0b0\\x7fR\\xc0.\\xa1(\\x94\\xdbc\\x19h\\xdaIj\\xb8S%\\xef{\\x18\\xf0\\xc9\\xc2\\x99\\x8a\\xbc\\xe0\\x85\\xe9\\x023\\xdaS\\xe7@Y\\x92\\x0eo\\xcc\\xe5v\\xf8km\\xa0\\x08\\x99H=\\x9e7\\x9b8(\\xc4\\xaf\\xdf~\\x10a\\xf1\\x0e\\xa1\\xc1\\xd5i\\x9e\\xe0\\xdc\\xa9\\x16_\\x81\\xda\\xfc\\x7f[\\xcdb\\x172Y\\xdf\\xca-l\\x8b\\xe8?\\xca\\xdc\\xc3\\xb6\\xee~|\\xda\\x15\\x94\\x97\\xd5\\xbe\\xeaJ\\xe1(\\xbf\\x84\\xa6[Z\\x0b\\x9c\\x7f\\x1e\\xb9Rvx\\xab\\x8b\\xd3M\\x05@=\\x02\\xa0\\xaa\\x99\\xb6\\x85\\xf2\\x0bv\\xdcxW}\\x8a\\xc2G\\xff>2\\x9a\\xe3\\xc5\\x88C\\x12\\x91W\\x07!\\x07\\x91@\\xab{\\xc6\\x84\\x1d\\x8a\\xc1\\xe7\\x8eRE\\xf08\\xfa*Ez\\x9fP\\xa9\\x0b\\xf0\\xd0\\xdb\\x06K\\x90\\x8c\\xfc\\x10\\xfb\\x02`\\xc8ux\\x8a\\x9f\\xdc\\xb3\\xddd\\xeb2d\\xaa\\xbc\\xe5D\\x12Y\\xff\\xd5Bo\\x86\\xdd\\xbfn\\x8e\\xa6MN\\x07\\x1d\\xa6\\x10x\\x8c8\\xe0Z\\x85\\xa7(S\\xcb\\xe2~\\xe5\\x9as\\x08E\\x10@4\\x85\\x94\\x98'"
      ]
     },
     "execution_count": 9,
     "metadata": {},
     "output_type": "execute_result"
    }
   ],
   "source": [
    "ciphertext = cipher(message, keys[1]['public'])\n",
    "ciphertext"
   ]
  },
  {
   "cell_type": "code",
   "execution_count": 10,
   "metadata": {},
   "outputs": [
    {
     "name": "stdout",
     "output_type": "stream",
     "text": [
      "b'Some valuable\\t\\tinformation\\nto be transmitted!!\\n\\nEnd of the message'\n"
     ]
    }
   ],
   "source": [
    "plaintext = decipher(ciphertext, keys[1]['private'])\n",
    "print(plaintext)"
   ]
  },
  {
   "cell_type": "code",
   "execution_count": 11,
   "metadata": {},
   "outputs": [
    {
     "name": "stdout",
     "output_type": "stream",
     "text": [
      "True\n"
     ]
    }
   ],
   "source": [
    "print(plaintext == message)"
   ]
  },
  {
   "cell_type": "code",
   "execution_count": null,
   "metadata": {},
   "outputs": [],
   "source": []
  },
  {
   "cell_type": "code",
   "execution_count": null,
   "metadata": {},
   "outputs": [],
   "source": []
  },
  {
   "cell_type": "code",
   "execution_count": null,
   "metadata": {},
   "outputs": [],
   "source": []
  }
 ],
 "metadata": {
  "kernelspec": {
   "display_name": "Python 3",
   "language": "python",
   "name": "python3"
  },
  "language_info": {
   "codemirror_mode": {
    "name": "ipython",
    "version": 3
   },
   "file_extension": ".py",
   "mimetype": "text/x-python",
   "name": "python",
   "nbconvert_exporter": "python",
   "pygments_lexer": "ipython3",
   "version": "3.7.3"
  }
 },
 "nbformat": 4,
 "nbformat_minor": 2
}
