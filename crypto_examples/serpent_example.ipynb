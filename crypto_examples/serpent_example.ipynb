{
 "cells": [
  {
   "cell_type": "code",
   "execution_count": 11,
   "metadata": {},
   "outputs": [],
   "source": [
    "from CryptoPlus.Cipher import python_Serpent\n",
    "\n",
    "# dicts for testing\n",
    "from CryptoPlus.testvectors import dict_serpent128,dict_serpent192,dict_serpent256\n",
    "\n",
    "from tqdm import tqdm\n",
    "import os\n",
    "import sys\n",
    "import re\n",
    "import numpy as np"
   ]
  },
  {
   "cell_type": "code",
   "execution_count": 2,
   "metadata": {},
   "outputs": [],
   "source": [
    "def cipher(plaintext, key, IV=None, segment_size=16):\n",
    "    cipher = python_Serpent.new(key, python_Serpent.MODE_CFB, IV, segment_size=segment_size)\n",
    "    ciphertext = cipher.encrypt(plaintext)\n",
    "    return ciphertext\n",
    "\n",
    "\n",
    "def decipher(ciphertext, key, IV=None):\n",
    "    decipher = python_Serpent.new(key, python_Serpent.MODE_CFB, IV, segment_size=16)\n",
    "    deciphered = decipher.decrypt(ciphertext)\n",
    "    return deciphered"
   ]
  },
  {
   "cell_type": "markdown",
   "metadata": {},
   "source": [
    "## test"
   ]
  },
  {
   "cell_type": "code",
   "execution_count": 3,
   "metadata": {},
   "outputs": [],
   "source": [
    "to_test = False\n",
    "\n",
    "if to_test:\n",
    "    # for d in dict_serpent128, dict_serpent192, dict_serpent256\n",
    "    d = dict_serpent128\n",
    "    print(len(d), len(d) / 3)\n",
    "    for i in tqdm(range(len(d) // 3)):\n",
    "        msg = d['msg%i' % i]\n",
    "        key = d['key%i' % i]\n",
    "        cip = d['cip%i' % i]\n",
    "        t = (msg, key, cip)\n",
    "        t_h = list(map(lambda x: bytes.fromhex(x), t))\n",
    "        ciphertext = cipher(t_h[0], t_h[1], IV, segment_size=16)\n",
    "        deciphered = decipher(ciphertext, t_h[1])\n",
    "        if not (deciphered == t_h[0]):\n",
    "            print(i)\n",
    "            print(t)\n",
    "            print(t_h)\n",
    "            print(ciphertext, deciphered)\n",
    "            print()\n",
    "    print(\"end\")"
   ]
  },
  {
   "cell_type": "code",
   "execution_count": 4,
   "metadata": {},
   "outputs": [],
   "source": [
    "# iv = bytes.fromhex('00' * 16)\n",
    "# print(iv, len(iv))"
   ]
  },
  {
   "cell_type": "code",
   "execution_count": 5,
   "metadata": {},
   "outputs": [
    {
     "name": "stdout",
     "output_type": "stream",
     "text": [
      "('7E7E7E7E7E7E7E7E7E7E7E7E7E7E7E7E', '7E7E7E7E7E7E7E7E7E7E7E7E7E7E7E7E7E7E7E7E7E7E7E7E7E7E7E7E7E7E7E7E', 'C77C11CBD96C18F7633552AE6380C370')\n",
      "[b'~~~~~~~~~~~~~~~~', b'~~~~~~~~~~~~~~~~~~~~~~~~~~~~~~~~', b'\\xc7|\\x11\\xcb\\xd9l\\x18\\xf7c5R\\xaec\\x80\\xc3p']\n",
      "b'\\x84\\xfb\\xfbNb\\xd3t\\xff\\x17\\xb7\\xfe\\x1dd:\\x01\\x9e'\n",
      "b'\\xc7|\\x11\\xcb\\xd9l\\x18\\xf7c5R\\xaec\\x80\\xc3p'\n",
      "7E7E7E7E7E7E7E7E7E7E7E7E7E7E7E7E b'~~~~~~~~~~~~~~~~'\n",
      "True\n"
     ]
    }
   ],
   "source": [
    "i = 510\n",
    "\n",
    "msg = dict_serpent256['msg%i' % i]\n",
    "key = dict_serpent256['key%i' % i]\n",
    "cip = dict_serpent256['cip%i' % i]\n",
    "t = (msg, key, cip)\n",
    "t_h = list(map(lambda x: bytes.fromhex(x), t))\n",
    "print(t)\n",
    "print(t_h)\n",
    "\n",
    "ciphertext = cipher(t_h[0], t_h[1], segment_size=16)\n",
    "deciphered = decipher(ciphertext, t_h[1])\n",
    "print(ciphertext)\n",
    "print(t_h[2])\n",
    "print(deciphered.hex().upper(), deciphered)\n",
    "print(deciphered == t_h[0])"
   ]
  },
  {
   "cell_type": "markdown",
   "metadata": {},
   "source": [
    "## read books"
   ]
  },
  {
   "cell_type": "code",
   "execution_count": 6,
   "metadata": {},
   "outputs": [
    {
     "name": "stdout",
     "output_type": "stream",
     "text": [
      "read \"dracula.txt\". len: 867096. size: 846.821 kBytes\n",
      "read \"modest_proposal.txt\". len: 38965. size: 38.100 kBytes\n",
      "read \"tom_sawyer.txt\". len: 409623. size: 400.070 kBytes\n",
      "read \"dr_jekyll.txt\". len: 137671. size: 134.492 kBytes\n",
      "read \"sherlock_holmes.txt\". len: 575061. size: 561.631 kBytes\n",
      "read \"pride_and_prejudice.txt\". len: 700637. size: 684.264 kBytes\n",
      "read \"moby_dick.txt\". len: 1230408. size: 1201.618 kBytes\n"
     ]
    }
   ],
   "source": [
    "original_texts_dp = '../books'\n",
    "original_texts = {}\n",
    "for fn in os.listdir(original_texts_dp):\n",
    "    name = fn.split('.')[0]\n",
    "    with open(os.path.join(original_texts_dp, fn)) as file:\n",
    "        text = file.read()\n",
    "        text = re.sub(r'[^\\x00-\\x7f]', '', text) # remove non-ascii symbols\n",
    "        original_texts[name] = text\n",
    "        print('read \"%s\". len: %d. size: %.3f kBytes' % (fn, len(text), sys.getsizeof(text) / 1024))"
   ]
  },
  {
   "cell_type": "code",
   "execution_count": 7,
   "metadata": {},
   "outputs": [
    {
     "data": {
      "text/plain": [
       "dict_keys(['dracula', 'modest_proposal', 'tom_sawyer', 'dr_jekyll', 'sherlock_holmes', 'pride_and_prejudice', 'moby_dick'])"
      ]
     },
     "execution_count": 7,
     "metadata": {},
     "output_type": "execute_result"
    }
   ],
   "source": [
    "original_texts.keys()"
   ]
  },
  {
   "cell_type": "markdown",
   "metadata": {},
   "source": [
    "## manual example"
   ]
  },
  {
   "cell_type": "code",
   "execution_count": 8,
   "metadata": {},
   "outputs": [
    {
     "name": "stdout",
     "output_type": "stream",
     "text": [
      "h this great town,\n",
      "or travel in the country, when they see the streets, the roads and\n",
      "cabbin-doors crowded with beggars of the female sex, followed by three,\n",
      "four, or six children, all in rags, and importuning every passenger for\n",
      "an alms. These mothers instead of being able to work for their honest\n",
      "livelihood, are forced to employ all their time in stroling to beg\n",
      "sustenance for their helpless infants who, as they grow up, either turn\n",
      "thieves for want of work, or leave their dear native country,\n"
     ]
    }
   ],
   "source": [
    "sample = original_texts['modest_proposal'][1000:1500]\n",
    "print(sample)"
   ]
  },
  {
   "cell_type": "code",
   "execution_count": 9,
   "metadata": {},
   "outputs": [
    {
     "data": {
      "text/plain": [
       "b'h this great town,\\nor travel in the country, when they see the streets, the roads and\\ncabbin-doors crowded with beggars of the female sex, followed by three,\\nfour, or six children, all in rags, and importuning every passenger for\\nan alms. These mothers instead of being able to work for their honest\\nlivelihood, are forced to employ all their time in stroling to beg\\nsustenance for their helpless infants who, as they grow up, either turn\\nthieves for want of work, or leave their dear native country,'"
      ]
     },
     "execution_count": 9,
     "metadata": {},
     "output_type": "execute_result"
    }
   ],
   "source": [
    "sample_bytes = sample.encode('utf-8')\n",
    "sample_bytes"
   ]
  },
  {
   "cell_type": "code",
   "execution_count": 18,
   "metadata": {},
   "outputs": [],
   "source": [
    "def generate_random_key(bits_cnt):\n",
    "    nums = np.random.randint(256, size=(bits_cnt // 16))\n",
    "    key = ''.join(['{:02x}'.format(x).upper() for x in nums])\n",
    "    key = key.encode('utf-8')\n",
    "    return key"
   ]
  },
  {
   "cell_type": "code",
   "execution_count": 57,
   "metadata": {},
   "outputs": [
    {
     "name": "stdout",
     "output_type": "stream",
     "text": [
      "b'4F357BA9F60314A5'\n",
      "16\n"
     ]
    }
   ],
   "source": [
    "key = generate_random_key(128)\n",
    "print(key)\n",
    "print(len(key))"
   ]
  },
  {
   "cell_type": "code",
   "execution_count": 58,
   "metadata": {},
   "outputs": [
    {
     "name": "stdout",
     "output_type": "stream",
     "text": [
      "key: b'4F357BA9F60314A5'\n",
      "key hex: '34463335374241394636303331344135'\n",
      "key len: 16\n",
      "\n",
      "plaintext len:  500\n",
      "ciphertext len:  500\n",
      "\n",
      "ciphertext\n",
      "b';\\xac\\xfc\\xaf\\xf7r\\x92c~U\\x18\\\\7\\x81fI6\\x00a\\tD,\\xa8\\xb6\\x11\\xc0S5\\x87e`\\xee%8\\x96Y\\xb2\\x93\\x00\\xf6y\\x99\\xc9\\xc3\\x92<\\xf7\\xe2\\x08g\\xed*\\x9f\\xef\\xf6X\\xb93Sa,\\x9f\\xbdK3\\x06E\\xa3\\x89\\xc4\\xaf\\xea4Z\\xc6\\xa4\\xcc\\xc9FP3\\x9e\\x7f\\xcf\\xf8\\x01q\\x11\\x85w\\x8f\\xb8\\xb9\\x0c\\xb0\\xdc\\t\\xeb%x\\xaf\\xd5\\x1f,\\xf4\"c\\x1a\\x86{\\xa7O\\x0c\\x1a\\x9cdnQ\\xc4\\xf37\\x14\\xcd\\xda5>|\\x83\\xabV3\\x98\\xb4\\xaf\\x03n\\x0c\\xa2\\xb3\\xb90\\xf7\\xab\\\\\\x87g\\xba\\xb7\\xcbLJ\\xfa\\xc3\\xefZ\\xc0\\xce5\\xf9`\\xb7\\xbb\\x9a\\xaf\\xc2\\x10e\\x8e\\xa8\\xc3\\xc0\\xea<\\x19\\xc2\\xbaL`=\\xb6\\x1f\\xd6\\xc7>\\xf4x\\xde%\\xde\\xc0\\x84\\x85\\xdc\\xdf\\x84(\\x1bBn\\xed\\x86\\x1c\\xe8\"\\xf1\\x16)3*\\xf72\\xa6*\\xdf\\x86&w?L\\x00\\xca\\x07\\xd8\\xac\\xf0&\\xdc!s\\xe4\\x07\\x9dN\\xa3\\x8aGeO\\xa5\\x8e?Y-Q]\\x05]\\xe3Oz\\xeed\\xb6h\\xe27\\xa9\\x1d\\x8bm\\xabT\\xf3\\x02P\\xe6ju\\xdf\\xe6Tc\\xf0\\xa5\\xe5\\x8d\\xe2\"\\x15k\\xeb\\x08\\x19\\x8d\\xdfa,\\x97Mn_KuQ\\x9a\\x91Zm\\xc1a\\x17\\x9b\\x90\\x0cy`\\xb4h\\x15\\xa7\\x1b#0\\x94I\\x830\\x84:\\xc5(\\xb3\\x96KZ\\xdc04\\xc3\\xd1H$\\xaf\\x86j\\x163YZ\\xde\\x8bF\\x8c\\xf4\\xca\\xb0\\xc6\\x1d5}\\xf4\\xd0F\\xcc\\x1a\\xb4\\xc3\\x08\\xf5;\\xd4\\x95L\\xf1\\xad\\xca\\xdf\\xefx\\x9dYii\\x15\\x14b\\xb6s\\x0e\\x86\\xa1c\\xaa\\x88\\\\1v\\x96\\xe6\\xffd}E\\\\\\x19dw\\xf7\"s\\xc66fiOh\\xa2_:\\x0b\\xe8\\x8b\\xf4+\\x05K\\xe1K\\'S\\x03*o\\xc2\\x90\\x1f\\xf5\\xdeev\\x80\\xd9\\x85\\x128\\x8d\\xa6\\x1d\\x15\\xf4R\\x02\\x16\\x13xG>Z7\\x9a\\r\\xa7\\xe1}\\xa7\\x14[SAgI\\xcat\\xcb\\x0b\\xe1\\x8d\\xfa\\xa16\\xaa\\xa0\\xb3E\\xa7_;\\xaaIjn\\x0fA\\x8e\\xb5:\\x9a\"o\\xabxZ\\xa9\\xaf\\x07\\xa5\\xa1\\x85\\xde\\x87'\n"
     ]
    }
   ],
   "source": [
    "print('key: %r\\nkey hex: %r\\nkey len: %d\\n' % (key, key.hex().upper(), len(key)))\n",
    "\n",
    "plaintext = sample_bytes\n",
    "print('plaintext len: ', len(plaintext))\n",
    "ciphertext = cipher(plaintext, key)\n",
    "print('ciphertext len: ', len(ciphertext))\n",
    "print('\\nciphertext\\n%r' % ciphertext)"
   ]
  },
  {
   "cell_type": "code",
   "execution_count": 59,
   "metadata": {},
   "outputs": [
    {
     "name": "stdout",
     "output_type": "stream",
     "text": [
      "success: True\n"
     ]
    }
   ],
   "source": [
    "deciphered = decipher(ciphertext, key)\n",
    "success = (plaintext == deciphered)\n",
    "print('success: %r' % success)"
   ]
  },
  {
   "cell_type": "code",
   "execution_count": 60,
   "metadata": {},
   "outputs": [
    {
     "name": "stdout",
     "output_type": "stream",
     "text": [
      "h this great town,\n",
      "or travel in the country, when they see the streets, the roads and\n",
      "cabbin-doors crowded with beggars of the female sex, followed by three,\n",
      "four, or six children, all in rags, and importuning every passenger for\n",
      "an alms. These mothers instead of being able to work for their honest\n",
      "livelihood, are forced to employ all their time in stroling to beg\n",
      "sustenance for their helpless infants who, as they grow up, either turn\n",
      "thieves for want of work, or leave their dear native country,\n"
     ]
    }
   ],
   "source": [
    "print(deciphered.decode())"
   ]
  },
  {
   "cell_type": "code",
   "execution_count": null,
   "metadata": {},
   "outputs": [],
   "source": []
  }
 ],
 "metadata": {
  "kernelspec": {
   "display_name": "Python 3",
   "language": "python",
   "name": "python3"
  },
  "language_info": {
   "codemirror_mode": {
    "name": "ipython",
    "version": 3
   },
   "file_extension": ".py",
   "mimetype": "text/x-python",
   "name": "python",
   "nbconvert_exporter": "python",
   "pygments_lexer": "ipython3",
   "version": "3.7.3"
  }
 },
 "nbformat": 4,
 "nbformat_minor": 2
}
